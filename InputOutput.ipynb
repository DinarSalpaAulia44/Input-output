{
 "cells": [
  {
   "cell_type": "markdown",
   "id": "89e03689",
   "metadata": {},
   "source": [
    "<h3>Input</h3>"
   ]
  },
  {
   "cell_type": "code",
   "execution_count": 3,
   "id": "881622c7",
   "metadata": {
    "scrolled": true
   },
   "outputs": [
    {
     "name": "stdout",
     "output_type": "stream",
     "text": [
      "Insert your first name: Dinar\n",
      "Insert your middle name: Salpa\n",
      "insert your last name: Aulia\n",
      "Hello Dinar Salpa Aulia :D\n"
     ]
    }
   ],
   "source": [
    "first_name = input('Insert your first name: ')\n",
    "middle_name = input('Insert your middle name: ')\n",
    "last_name = input('insert your last name: ')\n",
    "\n",
    "print(\"Hello\", first_name, middle_name, last_name, \":D\")"
   ]
  },
  {
   "cell_type": "markdown",
   "id": "909cd4bb",
   "metadata": {},
   "source": [
    "program keliling persegi"
   ]
  },
  {
   "cell_type": "code",
   "execution_count": 6,
   "id": "22b117b8",
   "metadata": {},
   "outputs": [
    {
     "name": "stdout",
     "output_type": "stream",
     "text": [
      "Masukan nilai sisi Panjang: 4\n",
      "Masukan nilai sisi lebar: 6\n",
      "Hasil luas: 24\n",
      "Hasil keliling: 20\n"
     ]
    }
   ],
   "source": [
    "panjang = input('Masukan nilai sisi Panjang: ')\n",
    "lebar = input('Masukan nilai sisi lebar: ')\n",
    "\n",
    "luas = int(panjang) * int(lebar)\n",
    "keliling = 2* (int(panjang) + int (lebar))\n",
    "\n",
    "print(\"Hasil luas:\", luas)\n",
    "print(\"Hasil keliling:\", keliling)"
   ]
  },
  {
   "cell_type": "markdown",
   "id": "8417646f",
   "metadata": {},
   "source": [
    "<h3> Output </h3>"
   ]
  },
  {
   "cell_type": "code",
   "execution_count": 7,
   "id": "b50b60ec",
   "metadata": {},
   "outputs": [
    {
     "name": "stdout",
     "output_type": "stream",
     "text": [
      "18-Oktober-2024\n",
      "18\n",
      "Oktober\n",
      "2024\n"
     ]
    }
   ],
   "source": [
    "print(\"18\", \"Oktober\", \"2024\", sep='-')\n",
    "print(\"18\", \"Oktober\", \"2024\", sep='\\n') #Escape character n = new line\n"
   ]
  },
  {
   "cell_type": "code",
   "execution_count": 11,
   "id": "67083b1e",
   "metadata": {},
   "outputs": [
    {
     "name": "stdout",
     "output_type": "stream",
     "text": [
      "1!2!3!4~1!!2!!3!!4~~~~"
     ]
    }
   ],
   "source": [
    "print(\"1\",\"2\",\"3\",\"4\", sep=\"!\", end=\"~\")\n",
    "\n",
    "print(\"1\",\"2\",\"3\",\"4\", sep=\"!\" * 2, end=\"~\" * 4)"
   ]
  },
  {
   "cell_type": "markdown",
   "id": "53685547",
   "metadata": {},
   "source": [
    "<h3> Format Output </h3>"
   ]
  },
  {
   "cell_type": "code",
   "execution_count": 12,
   "id": "43c05e23",
   "metadata": {},
   "outputs": [
    {
     "name": "stdout",
     "output_type": "stream",
     "text": [
      "Luas Pesergi dengan lebar10 dan panjang 20 = 200\n"
     ]
    }
   ],
   "source": [
    "l = 10\n",
    "p = 20\n",
    "\n",
    "print(\"Luas Pesergi dengan lebar{} dan panjang {} = {}\".format(l,p,l*p))\n",
    "#posisi variabel terhadap paralel tergantung pada urutannya didalam format"
   ]
  },
  {
   "cell_type": "code",
   "execution_count": 13,
   "id": "cdc7e2f7",
   "metadata": {},
   "outputs": [
    {
     "name": "stdout",
     "output_type": "stream",
     "text": [
      "Nama-nama Bulan Januari,Februari\n",
      "Nama-nama Bulan Februari,Januari\n"
     ]
    }
   ],
   "source": [
    "#Format output dengan Indeks\n",
    "bulan1 = \"Januari\"\n",
    "bulan2 = \"Februari\"\n",
    "\n",
    "print(\"Nama-nama Bulan {0},{1}\" .format(bulan1, bulan2))\n",
    "print(\"Nama-nama Bulan {1},{0}\" .format(bulan1, bulan2))"
   ]
  },
  {
   "cell_type": "code",
   "execution_count": 15,
   "id": "3b615abf",
   "metadata": {},
   "outputs": [
    {
     "name": "stdout",
     "output_type": "stream",
     "text": [
      "Nama saya Haruka Mitsuki\n"
     ]
    }
   ],
   "source": [
    "#Format output dengan key\n",
    "print(\"Nama saya {fname} {lname}\" .format(fname='Haruka',lname='Mitsuki'))"
   ]
  },
  {
   "cell_type": "markdown",
   "id": "e95ce0ee",
   "metadata": {},
   "source": [
    "<h2> String dan Indeks</h2>"
   ]
  },
  {
   "cell_type": "code",
   "execution_count": 20,
   "id": "2acc1492",
   "metadata": {},
   "outputs": [
    {
     "name": "stdout",
     "output_type": "stream",
     "text": [
      "U\n",
      "s\n",
      "r\n",
      "Universitas\n",
      "Universitas Nusa Putra\n",
      "Nusa Putra\n",
      "Putr\n",
      "artuP asuN satisrevinU\n"
     ]
    }
   ],
   "source": [
    "kampus = \"Universitas Nusa Putra\"\n",
    "print(kampus[0])\n",
    "print(kampus[6])\n",
    "print(kampus[-2])\n",
    "\n",
    "#menggunakan range\n",
    "print(kampus[0:11])\n",
    "print(kampus[0:])\n",
    "print(kampus[12:])\n",
    "print(kampus[-5:-1])\n",
    "print(kampus[::-1])\n",
    "#indeks dikiri harus lebih kecil dari indeks di kanan"
   ]
  },
  {
   "cell_type": "code",
   "execution_count": 21,
   "id": "c18f0f34",
   "metadata": {},
   "outputs": [
    {
     "name": "stdout",
     "output_type": "stream",
     "text": [
      "Luas Persegi = 200\n",
      "Keliling Persegi = 60\n"
     ]
    }
   ],
   "source": [
    "#interpolasi menggunakan F-string\n",
    "\n",
    "p = 10\n",
    "l = 20\n",
    "\n",
    "print(f'Luas Persegi = {l*p}')\n",
    "print(f'Keliling Persegi = {2 * (p+l)}')"
   ]
  },
  {
   "cell_type": "code",
   "execution_count": 23,
   "id": "ee14fa0c",
   "metadata": {},
   "outputs": [
    {
     "name": "stdout",
     "output_type": "stream",
     "text": [
      "['ANDRI', 'BUDI', 'DONI']\n",
      "ANDRI & BUDI & DONI\n"
     ]
    }
   ],
   "source": [
    "nama_siswa = \"Andri,Budi,Doni\"\n",
    "nama_siswa = nama_siswa.upper() #mengubah seluruh karakter menjadi kapital\n",
    "print(nama_siswa.split(','))\n",
    "print(' & '.join(nama_siswa.split(',')))"
   ]
  },
  {
   "cell_type": "code",
   "execution_count": 31,
   "id": "3ff66d75",
   "metadata": {},
   "outputs": [
    {
     "name": "stdout",
     "output_type": "stream",
     "text": [
      "Masukan nama: Dinar Salpa Aulia\n",
      "Masukan tanggal lahir:2/11/2004\n",
      "Nama: Dinar Salpa Aulia\n",
      "Tanggal Lahir: 2\n",
      "Bulan Lahir: 11\n",
      "Tahun Lahir: 2004\n",
      "Inisial : DS\n"
     ]
    }
   ],
   "source": [
    "#Buat program \n",
    "#Input Nama => dua kata\n",
    "#Input bulan => sep pakai /\n",
    "\n",
    "#output\n",
    "#Nama anda = Dinar Salpa\n",
    "#Tgl Lahir = 2\n",
    "#Bulan Lahir = 11\n",
    "#Tahun Lahir =2004\n",
    "#Inisial = DS\n",
    "\n",
    "nama = input(\"Masukan nama: \")\n",
    "tgl_lahir = input(\"Masukan tanggal lahir:\")\n",
    "tgls = tgl_lahir.split('/')\n",
    "namas= nama.split()\n",
    "inisial1 = namas[0]\n",
    "inisial2 = namas[1]\n",
    "\n",
    "print(f\"Nama: {nama}\")\n",
    "print(f\"Tanggal Lahir: {tgls[0]}\")\n",
    "print(f\"Bulan Lahir: {tgls[1]}\")\n",
    "print(f\"Tahun Lahir: {tgls[2]}\")\n",
    "print(f\"Inisial : {inisial1 [0]}{inisial2 [0]}\")\n"
   ]
  }
 ],
 "metadata": {
  "kernelspec": {
   "display_name": "Python 3 (ipykernel)",
   "language": "python",
   "name": "python3"
  },
  "language_info": {
   "codemirror_mode": {
    "name": "ipython",
    "version": 3
   },
   "file_extension": ".py",
   "mimetype": "text/x-python",
   "name": "python",
   "nbconvert_exporter": "python",
   "pygments_lexer": "ipython3",
   "version": "3.9.12"
  }
 },
 "nbformat": 4,
 "nbformat_minor": 5
}
